{
 "cells": [
  {
   "cell_type": "code",
   "execution_count": 4,
   "metadata": {
    "collapsed": false
   },
   "outputs": [],
   "source": [
    "\n",
    "from __future__ import division, unicode_literals, print_function  # for compatibility with Python 2 and 3\n",
    "\n",
    "import matplotlib as mpl\n",
    "import matplotlib.pyplot as plt\n",
    "from jones_matrix import JonesMatrix as jm\n",
    "from jones_matrix import Phases as ph\n",
    "# change the following to %matplotlib notebook for interactive plotting"
   ]
  },
  {
   "cell_type": "code",
   "execution_count": 5,
   "metadata": {
    "collapsed": false
   },
   "outputs": [],
   "source": [
    "%matplotlib inline\n",
    "\n",
    "# Optionally, tweak styles.\n",
    "mpl.rc('figure',  figsize=(10, 6))\n",
    "mpl.rc('image', cmap='gray')\n",
    "\n",
    "import numpy as np\n",
    "import pandas as pd\n",
    "from pandas import DataFrame, Series  # for convenience\n",
    "import numba as nb\n",
    "import pims\n",
    "import trackpy as tp\n",
    "import matplotlib.animation as animation"
   ]
  },
  {
   "cell_type": "markdown",
   "metadata": {},
   "source": [
    "This is a markdown cell. You can change the cell type in the menu `cell->cell type`.\n",
    "You can read more about [markdown](http://jupyter-notebook.readthedocs.io/en/latest/examples/Notebook/Working%20With%20Markdown%20Cells.html) too.\n",
    "\n",
    "The cell below defines the director field on a radial droplet the function `f` adds a twist from ref: Liquid Crystals, 1999, Vol. 26, No. 5, 753-758.\n",
    "\n",
    "$$ f(r) = \\frac{1}{\\sqrt{r}}\\sin\\left(\\pi\\frac{ln(r/r_{min})}{ln(r_{max}/r_{min}}\\right) $$\n",
    "\n",
    "\n",
    "with:\n",
    "\n",
    "$r$ the radial position in the drop\n",
    "\n",
    "$r_{max}$ the radius of the drop\n",
    "\n",
    "$r_{min}$ the radius of the small inclusion contained in the drop\n",
    "\n",
    "For a point of coordinates (x,y,z), the spherical coordinates are given by\n",
    "\n",
    "$ r = \\sqrt{x^{2}+y^{2}+z^{2}} $\n",
    "\n",
    "$ \\theta = \\cos^{-1}\\left(\\frac{z}{\\sqrt{x^{2}+y^{2}+z^{2}}}\\right) $\n",
    "\n",
    "$ \\phi = \\tan^{-1}\\left(\\frac{y}{x}\\right) $\n",
    "\n",
    "At this point, the director is defined by the polar coordinates\n",
    "\n",
    "$n_r = \\left(1-0.5\\times b^{2}\\times f(r)^{2} \\right) \\times r $\n",
    "\n",
    "$n_{\\phi} = \\phi + b \\times f(r) $\n",
    "\n",
    "$n_{\\theta} = \\theta $\n",
    "\n",
    "with b being the 'twist amplitude'\n",
    "\n",
    "We can then obtain back the cartesian coordinates of n:\n",
    "\n",
    "$n_x = n_r \\times sin(n_{\\theta} \\times cos(n_{\\phi}))$\n",
    "\n",
    "$n_y = n_r \\times sin(n_{\\theta}) \\times sin(n_{\\phi})$\n",
    "\n",
    "$n_z = n_r \\times cos(n_{\\theta})$\n",
    "\n",
    "And thus we obtain the $\\beta$ and $\\gamma$ angles:\n",
    "\n",
    "$\\beta = cos^{-1}(n_z)$\n",
    "\n",
    "$\\gamma = tan^{-1}\\left(\\frac{n_y}{n_x}\\right)$\n"
   ]
  },
  {
   "cell_type": "code",
   "execution_count": 6,
   "metadata": {
    "collapsed": true
   },
   "outputs": [],
   "source": [
    "\n",
    "def f(r,rmin,rmax):\n",
    "    return 1/np.sqrt(r)*(np.pi*np.log(r/rmin)/np.log(rmax/rmin))\n",
    "\n",
    "def rd(x,y,z):\n",
    "    return np.sqrt(x**2+y**2+z**2)\n",
    "\n",
    "def tet(x,y,z):\n",
    "    return np.arccos(z/np.sqrt(x**2+y**2+z**2))\n",
    "\n",
    "def phi(x,y,z):\n",
    "    return np.arctan(y/x)\n",
    "\n",
    "def nr(x,y,z,b,rmin,rmax):\n",
    "    return (1-0.5*(b**2)*(f(rd(x,y,z),rmin,rmax)**2))*rd(x,y,z)\n",
    "\n",
    "def nphi(x,y,z,b,rmin,rmax):\n",
    "    return b*f(rd(x,y,z),rmin,rmax)+phi(x,y,z)\n",
    "\n",
    "def ntet(x,y,z):\n",
    "    return tet(x,y,z)\n",
    "\n",
    "def nx(x,y,z,b,rmin,rmax):\n",
    "    return nr(x,y,z,b,rmin,rmax)*np.sin(ntet(x,y,z))*np.cos(nphi(x,y,z,b,rmin,rmax))\n",
    "\n",
    "def ny(x,y,z,b,rmin,rmax):\n",
    "    return nr(x,y,z,b,rmin,rmax)*np.sin(ntet(x,y,z))*np.sin(nphi(x,y,z,b,rmin,rmax))\n",
    "\n",
    "def nz(x,y,z,b,rmin,rmax):\n",
    "    return nr(x,y,z,b,rmin,rmax)*np.cos(ntet(x,y,z))\n",
    "\n",
    "def beta(x,y,z,b,rmin,rmax):\n",
    "    return np.arccos(nz(x,y,z,b,rmin,rmax))\n",
    "\n",
    "def gamma(x,y,z,b,rmin,rmax):\n",
    "    return np.arctan(ny(x,y,z,b,rmin,rmax)/nx(x,y,z,b,rmin,rmax))\n",
    "    \n",
    "def polarizer(ang):\n",
    "    return np.array([[np.cos(ang)**2,np.cos(ang)*np.sin(ang)],\n",
    "                     [np.cos(ang)*np.sin(ang),np.sin(ang)**2]],\n",
    "                    dtype=np.complex)"
   ]
  },
  {
   "cell_type": "code",
   "execution_count": 14,
   "metadata": {
    "collapsed": false
   },
   "outputs": [],
   "source": [
    "rmax = 20.0\n",
    "rmin = 0.1\n",
    "n_ord = 1.55\n",
    "n_ext = 1.65\n",
    "lamb = 0.660 #microns\n",
    "zres = 0.0011 \n",
    "xres = 0.0075\n",
    "yres = xres\n",
    "wlen = lamb/rmax"
   ]
  },
  {
   "cell_type": "code",
   "execution_count": 15,
   "metadata": {
    "collapsed": false
   },
   "outputs": [],
   "source": [
    "x = np.arange(-1,1,xres)\n",
    "y = np.arange(-1,1,yres)\n",
    "z = np.arange(-1,1,zres)"
   ]
  },
  {
   "cell_type": "code",
   "execution_count": 17,
   "metadata": {
    "collapsed": false
   },
   "outputs": [],
   "source": [
    "def jm_mat(x,y,z,b,rmin,rmax):\n",
    "    res_jm = np.ones((x.shape[0],2,2))\n",
    "    #res_jm = np.ones((x.shape[0],2,2),dtype=np.complex)\n",
    "    res_jm[:,0,1] = 0\n",
    "    res_jm[:,1,0] = 0\n",
    "    for i,xi in enumerate(x):\n",
    "        for zi in z:\n",
    "            for yi in y:\n",
    "                if np.sqrt(xi**2+yi**2+zi**2) < rmax:\n",
    "                    gam = gamma(xi,yi,zi,b,rmin,rmax)\n",
    "                    bet = beta(xi,yi,zi,b,rmin,rmax)\n",
    "                    phiex = ph.compute_phiex(bet,n_ord,n_ext,wlen,zres)\n",
    "                    phior = ph.compute_phiord(n_ord,wlen,zres)\n",
    "                    #res_jm[i] = np.dot(res_jm[i],\n",
    "                    #                   jm.jones_matrix(gam,phiex,phior))\n",
    "                    res_jm[i] = np.dot(jm.jones_matrix(gam,phiex,phior),\n",
    "                                   res_jm[i])\n",
    "    return res_jm"
   ]
  },
  {
   "cell_type": "code",
   "execution_count": null,
   "metadata": {
    "collapsed": false
   },
   "outputs": [],
   "source": [
    "jms = jm_mat(x,y,z,0,rmin,rmax)\n",
    "\n",
    "\n",
    "im_row = np.zeros_like(x)\n",
    "for i in np.arange(x.shape[0]):\n",
    "    im_row[i] = np.linalg.norm(np.dot(np.dot(polarizer(0),jms[i]),\n",
    "                                      polarizer(np.pi)))"
   ]
  },
  {
   "cell_type": "code",
   "execution_count": null,
   "metadata": {
    "collapsed": true
   },
   "outputs": [],
   "source": [
    "plt.plot(x,im_row)"
   ]
  },
  {
   "cell_type": "code",
   "execution_count": null,
   "metadata": {
    "collapsed": true
   },
   "outputs": [],
   "source": [
    "plt.pcolor(x,np.arange(10),np.tile(im_row,(10,1)),cmap=plt.cm.gray)"
   ]
  }
 ],
 "metadata": {
  "anaconda-cloud": {},
  "kernelspec": {
   "display_name": "Python 2",
   "language": "python",
   "name": "python2"
  },
  "language_info": {
   "codemirror_mode": {
    "name": "ipython",
    "version": 2
   },
   "file_extension": ".py",
   "mimetype": "text/x-python",
   "name": "python",
   "nbconvert_exporter": "python",
   "pygments_lexer": "ipython2",
   "version": "2.7.12"
  }
 },
 "nbformat": 4,
 "nbformat_minor": 1
}
